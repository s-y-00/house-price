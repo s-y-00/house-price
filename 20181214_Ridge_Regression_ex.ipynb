{
  "cells": [
    {
      "metadata": {
        "_uuid": "8f2839f25d086af736a60e9eeb907d3b93b6e0e5",
        "_cell_guid": "b1076dfc-b9ad-4769-8c92-a6c4dae69d19",
        "trusted": true
      },
      "cell_type": "code",
      "source": "import numpy as np\nimport pandas as pd\nimport matplotlib.pyplot as plt\n%matplotlib inline\nimport seaborn as sns\nsns.set_style(\"whitegrid\")\nimport scipy.stats as stats",
      "execution_count": null,
      "outputs": []
    },
    {
      "metadata": {
        "_cell_guid": "79c7e3d0-c299-4dcb-8224-4455121ee9b0",
        "_uuid": "d629ff2d2480ee46fbb7e2d37f6b5fab8052498a",
        "trusted": true
      },
      "cell_type": "code",
      "source": "train=pd.read_csv('../input/train.csv')\ntest=pd.read_csv('../input/test.csv')",
      "execution_count": null,
      "outputs": []
    },
    {
      "metadata": {
        "trusted": true,
        "_uuid": "78b50988bc39bfb16b21bd0aa03f2ac48e12c750"
      },
      "cell_type": "code",
      "source": "# 2.1 Check number of observations and columns\nprint(train.shape)\nprint(test.shape)\n# Train has one more column the predictor variable SalePrice than the test data\nprint(set(train.columns)-set(test.columns))",
      "execution_count": null,
      "outputs": []
    },
    {
      "metadata": {
        "trusted": true,
        "_uuid": "e969811c85ffeed038baed9f5a121273358dd1ac"
      },
      "cell_type": "code",
      "source": "# 2.2 Check the number of observations, data types and NAN for each variable\nprint(train.info())\nprint('-----------------------'*3)\nprint(test.info())",
      "execution_count": null,
      "outputs": []
    },
    {
      "metadata": {
        "trusted": true,
        "_uuid": "274a0534c7566a742b1e60152ae713f761932f3d"
      },
      "cell_type": "code",
      "source": "# 2.3 Check the descriptive info for 37 numeric variables, exclude Id\ntrain.drop(['Id'], axis=1).describe()",
      "execution_count": null,
      "outputs": []
    },
    {
      "metadata": {
        "trusted": true,
        "_uuid": "798aac63ffbc518005295bc045b6b1a7f5fdbf7a"
      },
      "cell_type": "code",
      "source": "# Check how many numeric columns and how many object columns, 38 numeric columns including ID\n# 43 character columns\nprint(train.select_dtypes(exclude=['object']).shape)\nprint(train.select_dtypes(include=['object']).shape)",
      "execution_count": null,
      "outputs": []
    },
    {
      "metadata": {
        "trusted": true,
        "_uuid": "aa39be82545f216379858f43106738e3d3b85a2e"
      },
      "cell_type": "code",
      "source": "# 2.4 Check the first 5 observations and last five observations of train and head\n#print(train.head(5))\nprint(train[:5])\nprint('/n')\nprint(train.tail(5))\n#print(train[-5:])",
      "execution_count": null,
      "outputs": []
    },
    {
      "metadata": {
        "trusted": true,
        "_uuid": "3029574199bf84260142ede52637062e995e3085"
      },
      "cell_type": "code",
      "source": "plt.figure(figsize=(13,10))\nsns.heatmap(train.corr(), vmax=0.8)",
      "execution_count": null,
      "outputs": []
    },
    {
      "metadata": {
        "trusted": true,
        "_uuid": "a46d854a0ad75c0dcd966b9b50929aa8dabdcb58"
      },
      "cell_type": "code",
      "source": "train.drop(['GarageYrBlt','TotRmsAbvGrd','TotalBsmtSF'], axis=1, inplace=True)\ntest.drop(['GarageYrBlt','TotRmsAbvGrd','TotalBsmtSF'], axis=1, inplace=True)",
      "execution_count": null,
      "outputs": []
    },
    {
      "metadata": {
        "trusted": true,
        "_uuid": "61ae31fdd5a05be71d29effbc735f13907560497"
      },
      "cell_type": "code",
      "source": "# Top 10 numeric features positively correlated with SalePrice\ntrain.corr()['SalePrice'].sort_values(ascending=False).head(11)",
      "execution_count": null,
      "outputs": []
    },
    {
      "metadata": {
        "trusted": true,
        "_uuid": "1b7fc68761e36a055c41b603af3feee951be3cb7"
      },
      "cell_type": "code",
      "source": "train.corr()['SalePrice'].abs().sort_values(ascending=False).head(11)\ntop_corr_features=train.corr()['SalePrice'].abs().sort_values(ascending=False).head(11).index\ntop_corr_features",
      "execution_count": null,
      "outputs": []
    },
    {
      "metadata": {
        "trusted": true,
        "_uuid": "d05b3222ad3fc7d20baf62c156278ad906018954"
      },
      "cell_type": "code",
      "source": "# Box-plot to check relationship between SalePrice and OverallQual\nplt.figure(figsize=(10,7))\nsns.boxplot(x='OverallQual', y='SalePrice', data=train)",
      "execution_count": null,
      "outputs": []
    },
    {
      "metadata": {
        "trusted": true,
        "_uuid": "1b9fc842d58ace770fe31a4dbdb4062347c535b9"
      },
      "cell_type": "code",
      "source": "# Scatterplot to check the relationship between SalePrice and GrLivArea\nplt.scatter(x='GrLivArea', y='SalePrice', data=train, color='r', marker='*')\ntrain['GrLivArea'].sort_values(ascending=False).head(2)",
      "execution_count": null,
      "outputs": []
    },
    {
      "metadata": {
        "trusted": true,
        "_uuid": "237a8b10a9b1f8fe2080763822d491678d41d4f2"
      },
      "cell_type": "code",
      "source": "train.index[[523, 1298]]",
      "execution_count": null,
      "outputs": []
    },
    {
      "metadata": {
        "trusted": true,
        "_uuid": "5b79ac8d78b36cc53dc3abe2d2226d5ac8f9e623"
      },
      "cell_type": "code",
      "source": "print(train.shape)\ntrain.drop(train.index[[523, 1298]], inplace=True)\nprint(train.shape)",
      "execution_count": null,
      "outputs": []
    },
    {
      "metadata": {
        "trusted": true,
        "_uuid": "349045772326a7fa0fb0faf98513eefbefea84f4"
      },
      "cell_type": "code",
      "source": "print(top_corr_features)\nbox_feature=['SalePrice','OverallQual','GarageCars','FullBath', 'YearBuilt','YearRemodAdd','Fireplaces']\nscatter_feature=['SalePrice', 'GrLivArea','1stFlrSF','GarageArea']\n# Use sns.pairplot to check the relationship between the SalePrice and top 10 correlated features\nsns.pairplot(train[scatter_feature])",
      "execution_count": null,
      "outputs": []
    },
    {
      "metadata": {
        "trusted": true,
        "_uuid": "6e2a61938bdc1a02144574890c7ce78506e12a85"
      },
      "cell_type": "code",
      "source": "sns.pairplot(train[box_feature], kind='scatter', diag_kind='hist')",
      "execution_count": null,
      "outputs": []
    },
    {
      "metadata": {
        "trusted": true,
        "_uuid": "061b953d9f40008f9922f99deb0d26c6dbd4ee78"
      },
      "cell_type": "code",
      "source": "train.isnull().sum().sort_values(ascending=False)\n# Check the NAN values as percentage\ntrain_nan_pct=(train.isnull().sum())/(train.isnull().count())\ntrain_nan_pct=train_nan_pct[train_nan_pct>0]\ntrain_nan_pct.sort_values(ascending=False)",
      "execution_count": null,
      "outputs": []
    },
    {
      "metadata": {
        "trusted": true,
        "_uuid": "424950e74daaa9ee507124428293116bea35e420"
      },
      "cell_type": "code",
      "source": "train.drop(['PoolQC', 'MiscFeature', 'Alley', 'Fence', 'FireplaceQu'], axis=1, inplace=True)\ntest.drop(['PoolQC', 'MiscFeature', 'Alley', 'Fence', 'FireplaceQu'], axis=1, inplace=True)",
      "execution_count": null,
      "outputs": []
    },
    {
      "metadata": {
        "trusted": true,
        "_uuid": "ec8b9a914f1ac52b3b48681f08d5fcd1a9aeebbc"
      },
      "cell_type": "code",
      "source": "train['GarageQual'].value_counts()",
      "execution_count": null,
      "outputs": []
    },
    {
      "metadata": {
        "trusted": true,
        "_uuid": "0f2711f4ae8c11eb1b2b3f0e35fa061fe5615c59"
      },
      "cell_type": "code",
      "source": "train_impute_index=train_nan_pct[train_nan_pct<0.3].index\ntrain_impute_indextrain_impute_index=train_nan_pct[train_nan_pct<0.3].index\ntrain_impute_index\ntrain_impute_mode=['MasVnrType', 'BsmtQual', 'BsmtCond', 'BsmtExposure', 'BsmtFinType1', 'BsmtFinType2', 'Electrical', 'GarageType', 'GarageFinish', 'GarageQual', 'GarageCond']\ntrain_impute_median=['LotFrontage', 'MasVnrArea']\ntrain_impute_mode=['MasVnrType', 'BsmtQual', 'BsmtCond', 'BsmtExposure', 'BsmtFinType1', 'BsmtFinType2', 'Electrical', 'GarageType', 'GarageFinish', 'GarageQual', 'GarageCond']\ntrain_impute_median=['LotFrontage', 'MasVnrArea']",
      "execution_count": null,
      "outputs": []
    },
    {
      "metadata": {
        "trusted": true,
        "_uuid": "884052039841added93c512654b7083e5a11f382"
      },
      "cell_type": "code",
      "source": "# Impute character or qualitative feature with mode\nfor feature in train_impute_mode:\n    train[feature].fillna(train[feature].mode()[0], inplace=True)\n    test[feature].fillna(test[feature].mode()[0], inplace=True)",
      "execution_count": null,
      "outputs": []
    },
    {
      "metadata": {
        "trusted": true,
        "_uuid": "77a1e205c291f33f76e5ac1775d42f9e4b988d77"
      },
      "cell_type": "code",
      "source": "# Impute numeric feature with median\nfor feature in train_impute_median:\n    train[feature].fillna(train[feature].median(), inplace=True)\n    test[feature].fillna(test[feature].median(), inplace=True)",
      "execution_count": null,
      "outputs": []
    },
    {
      "metadata": {
        "trusted": true,
        "_uuid": "5c7f66306978173800e13d35e45fa8c34001b95f"
      },
      "cell_type": "code",
      "source": "# There are no nan values in train\ntrain.isnull().sum().sort_values(ascending=False).head(5)",
      "execution_count": null,
      "outputs": []
    },
    {
      "metadata": {
        "trusted": true,
        "_uuid": "feb0ba55043fab0219865821447f542f68fa4980"
      },
      "cell_type": "code",
      "source": "test_only_nan=test.isnull().sum().sort_values(ascending=False)\ntest_only_nan=test_only_nan[test_only_nan>0]\nprint(test_only_nan.index)\ntest_impute_mode=['MSZoning', 'BsmtFullBath', 'Utilities','BsmtHalfBath', 'Functional', 'SaleType', 'Exterior2nd', 'Exterior1st', 'GarageCars', 'KitchenQual']\ntest_impute_median=['BsmtFinSF2','GarageArea', 'BsmtFinSF1','BsmtUnfSF' ]",
      "execution_count": null,
      "outputs": []
    },
    {
      "metadata": {
        "trusted": true,
        "_uuid": "ab96bbc7e4a88509bd3de03886a1ceceeea04558"
      },
      "cell_type": "code",
      "source": "# Impute test character feature with mode\nfor feature in test_impute_mode:\n    test[feature].fillna(test[feature].mode()[0], inplace=True)\nfor feature in test_impute_median:\n    test[feature].fillna(test[feature].median(), inplace=True)\n#Impute test numeric feature with median",
      "execution_count": null,
      "outputs": []
    },
    {
      "metadata": {
        "trusted": true,
        "_uuid": "54e0cac6b7e99543ccebd3e88a6567ba0271ec47"
      },
      "cell_type": "code",
      "source": "# Now there are no NAN values in both train and test data\ntest.isnull().sum().sort_values(ascending=False).head(5)",
      "execution_count": null,
      "outputs": []
    },
    {
      "metadata": {
        "trusted": true,
        "_uuid": "2ecbbdbb4e93f05d4400cf3e75eef29a0a5a9b19"
      },
      "cell_type": "code",
      "source": "TestId = test['Id']",
      "execution_count": null,
      "outputs": []
    },
    {
      "metadata": {
        "trusted": true,
        "_uuid": "0ce30fcbdc0f87ed6a917c6dd4a1fce4d2b1d2ea"
      },
      "cell_type": "code",
      "source": "total_features=pd.concat((train.drop(['Id','SalePrice'], axis=1), test.drop(['Id'], axis=1)))",
      "execution_count": null,
      "outputs": []
    },
    {
      "metadata": {
        "trusted": true,
        "_uuid": "78fc849994eae6a9fbe3f6879cf2adff54113fcd"
      },
      "cell_type": "code",
      "source": "total_features=pd.get_dummies(total_features, drop_first=True)\ntrain_features=total_features[0:train.shape[0]]\ntest_features=total_features[train.shape[0]:]",
      "execution_count": null,
      "outputs": []
    },
    {
      "metadata": {
        "trusted": true,
        "_uuid": "031745014fde17e8006da2fae814e92e17312635"
      },
      "cell_type": "code",
      "source": "sns.distplot(train['SalePrice'])\n# The response variable is right-skewed, we will log1p() transform y",
      "execution_count": null,
      "outputs": []
    },
    {
      "metadata": {
        "trusted": true,
        "_uuid": "5db74da859ba5721c931e052449db8ed33c44483"
      },
      "cell_type": "code",
      "source": "train['Log SalePrice']=np.log1p(train['SalePrice'])\nsns.distplot(train['Log SalePrice'])\n# natural log one plus the array log(y+1) is more symmetric ",
      "execution_count": null,
      "outputs": []
    },
    {
      "metadata": {
        "trusted": true,
        "_uuid": "e487e55672d11cab1a76f91d33ea1ae62b4de7f3"
      },
      "cell_type": "code",
      "source": "plt.figure(figsize=(20,10))\nplt.subplot(1,2,1)\nsns.kdeplot(train['SalePrice'], legend=True)\nplt.subplot(1,2,2)\nsns.kdeplot(train['Log SalePrice'], legend=True)",
      "execution_count": null,
      "outputs": []
    },
    {
      "metadata": {
        "trusted": true,
        "_uuid": "ed532891317b0bb2c274aee75ba0e0ed73a90a42"
      },
      "cell_type": "code",
      "source": "from sklearn.model_selection import train_test_split\nx_train, x_val, y_train, y_val = train_test_split(train_features, train['SalePrice'], test_size=0.3, random_state=100)",
      "execution_count": null,
      "outputs": []
    },
    {
      "metadata": {
        "trusted": true,
        "_uuid": "100beeddca57cb6ea4139dc425187d14b9e80cb9"
      },
      "cell_type": "code",
      "source": "from sklearn.model_selection import train_test_split\nX_train, X_val, y_train, y_val=train_test_split(train_features, train[['SalePrice']], test_size=0.3, random_state=100)",
      "execution_count": null,
      "outputs": []
    },
    {
      "metadata": {
        "trusted": true,
        "_uuid": "98e0807e3a7409d7bf06e9dd3afd0ac87c35e451"
      },
      "cell_type": "code",
      "source": "# Import Ridge regression from sklearn\nfrom sklearn.linear_model import Ridge\n# Evaluate model performance using root mean square error\nfrom sklearn.metrics import mean_squared_error\nrmse=[]\n# check the below alpha values for Ridge Regression\nalpha=[0.01, 0.03, 0.1, 0.3, 1, 3, 10, 30]\n\nfor alph in alpha:\n    ridge=Ridge(alpha=alph, copy_X=True, fit_intercept=True)\n    ridge.fit(X_train, y_train)\n    predict=ridge.predict(X_val)\n    rmse.append(np.sqrt(mean_squared_error(predict, y_val)))\nprint(rmse)\nplt.scatter(alpha, rmse)",
      "execution_count": null,
      "outputs": []
    },
    {
      "metadata": {
        "trusted": true,
        "_uuid": "7902ec13f46e8154ea714ed43b7c56c944a5ffcf"
      },
      "cell_type": "code",
      "source": "rmse=pd.Series(rmse, index=alpha)\nrmse.argmin()",
      "execution_count": null,
      "outputs": []
    },
    {
      "metadata": {
        "trusted": true,
        "_uuid": "937532c19b23c02a98d3acfcb9d2f2a75ec0d872"
      },
      "cell_type": "code",
      "source": "alpha = np.arange(8, 14, 0.5)\nrmse = []\n\nfor alph in alpha:\n    ridge = Ridge(alpha=alph, copy_X=True, fit_intercept=True)\n    ridge.fit(x_train, y_train)\n    predict = ridge.predict(x_val)\n    rmse.append(np.sqrt(mean_squared_error(predict, y_val)))\nprint(rmse)\nplt.scatter(alpha, rmse)\nrmse = pd.Series(rmse, index=alpha)\nprint(rmse.argmin())",
      "execution_count": null,
      "outputs": []
    },
    {
      "metadata": {
        "trusted": true,
        "_uuid": "8363d3773d1436c3821ffe53d33ae5539c15be1e"
      },
      "cell_type": "code",
      "source": "# Adjust alpha based on previous result\nalpha=np.arange(10.5, 11.6, 0.1)\nrmse=[]\n\nfor alph in alpha:\n    ridge=Ridge(alpha=alph, copy_X=True, fit_intercept=True)\n    ridge.fit(X_train, y_train)\n    predict=ridge.predict(X_val)\n    rmse.append(np.sqrt(mean_squared_error(predict, y_val)))\nprint(rmse)\nplt.scatter(alpha, rmse)\nrmse=pd.Series(rmse, index=alpha)\nprint(rmse.argmin())",
      "execution_count": null,
      "outputs": []
    },
    {
      "metadata": {
        "trusted": true,
        "_uuid": "1bd557f5ce5aac7c5a23b8d7cd2f61d9d77fbf8f"
      },
      "cell_type": "code",
      "source": "# Use alpha=11.1 to predict the test data\nridge=Ridge(alpha=11.1)\n# Use all training data to fit the model\nridge.fit(train_features, train[['SalePrice']])\npredicted=ridge.predict(test_features)",
      "execution_count": null,
      "outputs": []
    },
    {
      "metadata": {
        "trusted": true,
        "_uuid": "dda57b6de00fd3f6960c64fc502af8bd31e0cbae"
      },
      "cell_type": "code",
      "source": "submission = pd.DataFrame()\nsubmission['Id'] = TestId\nsubmission['SalePrice'] = predicted\nsubmission.to_csv('20181214_ridge_submision.csv', index=False)\n",
      "execution_count": null,
      "outputs": []
    }
  ],
  "metadata": {
    "kernelspec": {
      "display_name": "Python 3",
      "language": "python",
      "name": "python3"
    },
    "language_info": {
      "name": "python",
      "version": "3.6.6",
      "mimetype": "text/x-python",
      "codemirror_mode": {
        "name": "ipython",
        "version": 3
      },
      "pygments_lexer": "ipython3",
      "nbconvert_exporter": "python",
      "file_extension": ".py"
    }
  },
  "nbformat": 4,
  "nbformat_minor": 1
}